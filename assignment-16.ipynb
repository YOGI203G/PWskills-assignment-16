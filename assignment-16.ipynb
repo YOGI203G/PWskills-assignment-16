{
 "cells": [
  {
   "cell_type": "markdown",
   "id": "088e914a-62d7-481d-b9cc-ea6d0a7aac28",
   "metadata": {},
   "source": [
    "Q1. What is MongoDB? Explain non-relational databases in short. In which scenarios it is preferred to use\n",
    "MongoDB over SQL databases?"
   ]
  },
  {
   "cell_type": "markdown",
   "id": "c05094e1-086a-4d14-a2e4-a08c6a72859b",
   "metadata": {},
   "source": [
    "MongoDB is a popular document-oriented NoSQL database that stores data in flexible, JSON-like documents. It is designed for high availability, scalability, and performance, and is commonly used for web, mobile, and IoT applications.\n",
    "\n",
    "Non-relational databases, also known as NoSQL databases, are database management systems that do not use the traditional relational database model that SQL databases use. Instead, NoSQL databases use different data models, such as document-oriented, key-value, column-family, or graph.\n",
    "\n",
    "NoSQL databases are preferred over SQL databases in scenarios where there is a need for high scalability, agility, and flexibility in handling large, unstructured or semi-structured data. This makes NoSQL databases a good choice for use cases such as web analytics, content management systems, real-time data processing, and IoT applications.\n",
    "\n",
    "MongoDB is preferred over SQL databases in scenarios where there is a need for handling large volumes of semi-structured or unstructured data with high availability, performance, and scalability requirements. It is commonly used for use cases such as e-commerce, content management, mobile applications, and real-time analytics.\n",
    "\n",
    "Some specific advantages of MongoDB over SQL databases include its ability to handle unstructured and semi-structured data, its flexible schema, its horizontal scalability, and its support for sharding and replication. Additionally, MongoDB's query language is more similar to modern programming languages, which makes it easier for developers to work with"
   ]
  },
  {
   "cell_type": "markdown",
   "id": "cabc9776-d30f-45eb-9c40-e6f98c451309",
   "metadata": {},
   "source": [
    "Q2. State and Explain the features of MongoDB."
   ]
  },
  {
   "cell_type": "markdown",
   "id": "c40c0e6b-7136-49ff-a766-ae5d14562be2",
   "metadata": {},
   "source": [
    "MongoDB is a popular NoSQL database that offers a range of features that make it a popular choice for developers and organizations looking for a scalable and flexible database solution. Some of the key features of MongoDB include:\n",
    "\n",
    "1.Document-oriented data model: MongoDB stores data in flexible, JSON-like documents that can vary in structure, making it a good choice for         handling semi-structured or unstructured data.\n",
    "2.High availability and scalability: MongoDB offers high availability and scalability through features such as automatic sharding, replication,     and load balancing.\n",
    "3.Rich query language: MongoDB provides a powerful query language that supports a wide range of queries, including ad hoc queries, range queries,   and full-text search.\n",
    "4.Indexing: MongoDB provides a range of indexing options, including single-field, compound, and multi-key indexes.\n",
    "5.Aggregation: MongoDB offers a flexible aggregation framework that allows developers to perform advanced data processing and analysis, such as     grouping, sorting, and filtering.\n",
    "6.GridFS: MongoDB offers GridFS, a file storage system that allows developers to store and retrieve large files, such as images and videos, as       part of the database.\n",
    "7.Transactions: MongoDB supports multi-document transactions, allowing developers to perform complex operations that span multiple documents.\n",
    "8.Security: MongoDB offers a range of security features, such as access control, authentication, and encryption, to ensure the security and         integrity of the data stored in the database.\n",
    "9.Flexibility: MongoDB's flexible data model and schemaless design make it a good choice for rapidly evolving applications and dynamic               environments\n",
    "Overall, MongoDB's rich feature set and flexibility make it a popular choice for a wide range of use cases, from mobile and web applications to IoT and real-time analytics."
   ]
  },
  {
   "cell_type": "markdown",
   "id": "c4b54c86-007a-44a9-b95f-eb03b32a60f2",
   "metadata": {},
   "source": [
    "Q3. Write a code to connect MongoDB to Python. Also, create a database and a collection in MongoDB."
   ]
  },
  {
   "cell_type": "code",
   "execution_count": null,
   "id": "2b669871-f7c7-473f-a00b-40dc6b06553d",
   "metadata": {},
   "outputs": [],
   "source": [
    "import pymongo\n",
    "\n",
    "client = pymongo.MongoClient(\"mongodb://localhost:27017/\")\n",
    "\n",
    "db = client[\"mydatabase\"]\n",
    "\n",
    "collection = db[\"mycollection\"]\n",
    "\n",
    "document = {\"name\": \"John\", \"age\": 30, \"city\": \"New York\"}\n",
    "collection.insert_one(document)\n",
    "\n",
    "query = {\"name\": \"John\"}\n",
    "result = collection.find_one(query)\n",
    "print(result)"
   ]
  },
  {
   "cell_type": "markdown",
   "id": "4e0a2257-f423-4992-9da5-62778cb513e0",
   "metadata": {},
   "source": [
    "Q4. Using the database and the collection created in question number 3, write a code to insert one record,\n",
    "and insert many records. Use the find() and find_one() methods to print the inserted record."
   ]
  },
  {
   "cell_type": "code",
   "execution_count": null,
   "id": "cd7c715f-5acf-41e5-acbf-fd297086e98d",
   "metadata": {},
   "outputs": [],
   "source": [
    "import pymongo\n",
    "\n",
    "client = pymongo.MongoClient(\"mongodb://localhost:27017/\")\n",
    "\n",
    "db = client[\"mydatabase\"]\n",
    "collection = db[\"mycollection\"]\n",
    "\n",
    "record_one = {\"name\": \"ram\", \"age\": 25, \"city\": \"ayodhaya\"}\n",
    "result_one = collection.insert_one(record_one)\n",
    "print(\"Inserted record ID:\", result_one.inserted_id)\n",
    "\n",
    "records_many = [\n",
    "    {\"name\": \"bhuvnesh\", \"age\": 30, \"city\": \"agra\"},\n",
    "    {\"name\": \"sagar\", \"age\": 35, \"city\": \"aligar\"},\n",
    "    {\"name\": \"David\", \"age\": 40, \"city\": \"lucknow\"}\n",
    "]\n",
    "result_many = collection.insert_many(records_many)\n",
    "print(\"Inserted records IDs:\", result_many.inserted_ids)\n",
    "\n",
    "query = {\"name\": \"sagar\"}\n",
    "result = collection.find_one(query)\n",
    "print(\"Found record:\", result)\n",
    "\n",
    "results = collection.find()\n",
    "print(\"All records:\")\n",
    "for result in results:\n",
    "    print(result)"
   ]
  },
  {
   "cell_type": "markdown",
   "id": "0f233af0-1471-4d9d-a3be-909c50244a09",
   "metadata": {},
   "source": [
    "Q5. Explain how you can use the find() method to query the MongoDB database. Write a simple code to\n",
    "demonstrate this.\n",
    "\n"
   ]
  },
  {
   "cell_type": "markdown",
   "id": "ddeaa3f6-d67f-41bb-8ac5-9796c1b04dd0",
   "metadata": {},
   "source": [
    "The find() method is used to query a MongoDB database for documents that match a specified set of criteria. This method returns a cursor object that can be used to iterate over the matching documents.\n",
    "\n",
    "Here's an example code to demonstrate how to use the find() method to query a MongoDB database:"
   ]
  },
  {
   "cell_type": "code",
   "execution_count": null,
   "id": "5dec09db-58a8-48cb-89bd-5204afe5cba9",
   "metadata": {},
   "outputs": [],
   "source": [
    "import pymongo\n",
    "\n",
    "client = pymongo.MongoClient(\"mongodb://localhost:27017/\")\n",
    "\n",
    "db = client[\"mydatabase\"]\n",
    "\n",
    "collection = db[\"mycollection\"]\n",
    "\n",
    "result = collection.find()\n",
    "\n",
    "for result in results:\n",
    "    print(result)"
   ]
  },
  {
   "cell_type": "markdown",
   "id": "ebd7c0e8-2393-4db1-a3f9-4ecc8ddb7ca1",
   "metadata": {},
   "source": [
    "Q6. Explain the sort() method. Give an example to demonstrate sorting in MongoDB."
   ]
  },
  {
   "cell_type": "markdown",
   "id": "ea9ed8d3-4393-4e7a-b31d-bfbefaa3878c",
   "metadata": {},
   "source": [
    "The sort() method is used to sort the results of a MongoDB query in either ascending or descending order. This method takes one or more key-value pairs that specify the fields to sort by and the order in which to sort them.\n",
    "\n",
    "Here's an example to demonstrate how to use the sort() method to sort the results of a MongoDB query:"
   ]
  },
  {
   "cell_type": "code",
   "execution_count": null,
   "id": "48844a01-085a-4746-9f40-85ce101abb2d",
   "metadata": {},
   "outputs": [],
   "source": [
    "import pymongo\n",
    "\n",
    "client = pymongo.MongoClient(\"mongodb://localhost:27017/\")\n",
    "\n",
    "db = client[\"mydatabase\"]\n",
    "collection = db[\"mycollection\"]\n",
    "\n",
    "record_one = {\"name\": \"ram\", \"age\": 25, \"city\": \"ayodhaya\"}\n",
    "result_one = collection.insert_one(record_one)\n",
    "print(\"Inserted record ID:\", result_one.inserted_id)\n",
    "\n",
    "records_many = [\n",
    "    {\"name\": \"bhuvnesh\", \"age\": 30, \"city\": \"agra\"},\n",
    "    {\"name\": \"sagar\", \"age\": 35, \"city\": \"aligar\"},\n",
    "    {\"name\": \"David\", \"age\": 40, \"city\": \"lucknow\"}\n",
    "]\n",
    "\n",
    "results = collection.find().sort(\"age\", pymongo.ASCENDING)\n",
    "\n",
    "for result in results:\n",
    "    print(result)"
   ]
  },
  {
   "cell_type": "markdown",
   "id": "561a8b1b-375c-4731-84e1-6ef3e110a74d",
   "metadata": {},
   "source": [
    "Q7. Explain why delete_one(), delete_many(), and drop() is used."
   ]
  },
  {
   "cell_type": "markdown",
   "id": "6898efc7-2655-49b4-af14-eaa8e27883a2",
   "metadata": {},
   "source": [
    "In MongoDB, the delete_one() and delete_many() methods are used to remove documents from a collection that match a specified set of criteria. The drop() method is used to remove an entire collection from a database.\n",
    "\n",
    "Here's a brief explanation of each method:\n",
    "\n",
    "delete_one(filter): This method deletes the first document that matches the specified filter criteria. If there are multiple documents that match the criteria, only the first one is deleted. This method returns a DeleteResult object that contains information about the operation, such as the number of documents deleted.\n",
    "\n",
    "delete_many(filter): This method deletes all documents that match the specified filter criteria. This method returns a DeleteResult object that contains information about the operation, such as the number of documents deleted.\n",
    "\n",
    "drop(): This method removes an entire collection from the database. This method returns None.\n",
    "\n",
    "These methods are used to remove documents from a MongoDB collection for various reasons, such as removing outdated or invalid data, cleaning up unused records, or removing duplicates. The drop() method is used when you want to completely remove a collection from the database and all of its associated documents.\n",
    "\n",
    "It's important to note that when using any of these methods, you should exercise caution and double-check that you are deleting the correct documents or collections, as the deleted data cannot be recovered."
   ]
  },
  {
   "cell_type": "code",
   "execution_count": null,
   "id": "5b2db38c-ef56-4045-ab5c-eca00978011f",
   "metadata": {},
   "outputs": [],
   "source": []
  }
 ],
 "metadata": {
  "kernelspec": {
   "display_name": "Python 3 (ipykernel)",
   "language": "python",
   "name": "python3"
  },
  "language_info": {
   "codemirror_mode": {
    "name": "ipython",
    "version": 3
   },
   "file_extension": ".py",
   "mimetype": "text/x-python",
   "name": "python",
   "nbconvert_exporter": "python",
   "pygments_lexer": "ipython3",
   "version": "3.10.8"
  }
 },
 "nbformat": 4,
 "nbformat_minor": 5
}
